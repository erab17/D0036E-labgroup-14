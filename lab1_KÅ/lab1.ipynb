{
 "cells": [
  {
   "cell_type": "code",
   "execution_count": 1,
   "metadata": {},
   "outputs": [],
   "source": [
    "import math\n",
    "%matplotlib inline"
   ]
  },
  {
   "cell_type": "code",
   "execution_count": 2,
   "metadata": {},
   "outputs": [],
   "source": [
    "# Define functions for calculating min, max, sum, mean, variance, std, median, median absolute deviance\n",
    "def my_min(arr):\n",
    "    low = None\n",
    "\n",
    "    for item in arr:\n",
    "        if low is None or item < low:\n",
    "            low = item\n",
    "\n",
    "    return low\n",
    "\n",
    "def my_max(arr):\n",
    "    return -my_min([-a for a in arr])\n",
    "\n",
    "def my_sum(arr):\n",
    "\n",
    "    sum = 0\n",
    "\n",
    "    for item in arr:\n",
    "        sum += item\n",
    "\n",
    "    return sum\n",
    "\n",
    "def my_mean(arr):\n",
    "    return sum(arr) / len(arr)\n",
    "\n",
    "def my_variance(arr):\n",
    "\n",
    "    mean = my_mean(arr)\n",
    "\n",
    "    return my_sum([(item - mean) ** 2 for item in arr]) / len(arr)\n",
    "\n",
    "def my_std(arr):\n",
    "\n",
    "    return math.sqrt(my_variance(arr))\n",
    "\n",
    "def my_median(arr):\n",
    "\n",
    "    arr = sorted(arr)\n",
    " \n",
    "    n = len(arr)\n",
    "\n",
    "    if n % 2:\n",
    "        return arr[n // 2]\n",
    " \n",
    "    return (arr[(n-1) // 2] + arr[n//2]) / 2\n",
    "\n",
    "def my_median_abs_dev(arr):\n",
    "\n",
    "    m = my_median(arr)\n",
    "\n",
    "    return my_median([abs(item - m) for item in arr])"
   ]
  },
  {
   "cell_type": "code",
   "execution_count": 3,
   "metadata": {},
   "outputs": [
    {
     "name": "stdout",
     "output_type": "stream",
     "text": [
      "min 1 1\n",
      "max 10 10\n",
      "sum 93 93\n",
      "mean 7.153846153846154 7.153846153846154\n",
      "variance 4.437869822485207 4.437869822485207\n",
      "standard deviation 2.106625221173716 2.106625221173716\n",
      "median 7 7.0\n",
      "median absolute deviation 1 1.0\n"
     ]
    }
   ],
   "source": [
    "# Tasks 1-3, examine the array of grades. We will use numpy built in methods to check our functions for correctness.\n",
    "import numpy as np\n",
    "\n",
    "grades = [8,6,1,7,8,9,8,7,10,7,6,9,7]\n",
    "\n",
    "print(\"min\", my_min(grades), np.min(grades))\n",
    "print(\"max\", my_max(grades), np.max(grades))\n",
    "print(\"sum\", my_sum(grades), np.sum(grades))\n",
    "print(\"mean\", my_mean(grades), np.mean(grades))\n",
    "print(\"variance\", my_variance(grades), np.var(grades))\n",
    "print(\"standard deviation\", my_std(grades), np.std(grades))\n",
    "print(\"median\", my_median(grades), np.median(grades))\n",
    "print(\"median absolute deviation\", my_median_abs_dev(grades), np.median(np.absolute(np.array(grades) - np.median(grades))))"
   ]
  },
  {
   "cell_type": "code",
   "execution_count": 4,
   "metadata": {},
   "outputs": [
    {
     "data": {
      "image/png": "[encoded data removed]",
      "text/plain": [
       "<Figure size 432x288 with 1 Axes>"
      ]
     },
     "metadata": {
      "needs_background": "light"
     },
     "output_type": "display_data"
    }
   ],
   "source": [
    "# Task 4\n",
    "from matplotlib import pyplot as plt\n",
    "\n",
    "plt.hist(grades)\n",
    "plt.title(\"histogram\")\n",
    "plt.show()"
   ]
  },
  {
   "cell_type": "markdown",
   "metadata": {},
   "source": [
    "Task 4\n",
    "\n",
    "- Most frequenct value is 7 \n",
    "- The value 1 is far from the rest and thus appears to be an outlier."
   ]
  },
  {
   "cell_type": "markdown",
   "metadata": {},
   "source": [
    "### Task 5"
   ]
  },
  {
   "cell_type": "code",
   "execution_count": 5,
   "metadata": {},
   "outputs": [
    {
     "data": {
      "text/html": [
       "<div>\n",
       "<style scoped>\n",
       "    .dataframe tbody tr th:only-of-type {\n",
       "        vertical-align: middle;\n",
       "    }\n",
       "\n",
       "    .dataframe tbody tr th {\n",
       "        vertical-align: top;\n",
       "    }\n",
       "\n",
       "    .dataframe thead th {\n",
       "        text-align: right;\n",
       "    }\n",
       "</style>\n",
       "<table border=\"1\" class=\"dataframe\">\n",
       "  <thead>\n",
       "    <tr style=\"text-align: right;\">\n",
       "      <th></th>\n",
       "      <th>longitude</th>\n",
       "      <th>latitude</th>\n",
       "      <th>housing_median_age</th>\n",
       "      <th>total_rooms</th>\n",
       "      <th>total_bedrooms</th>\n",
       "      <th>population</th>\n",
       "      <th>households</th>\n",
       "      <th>median_income</th>\n",
       "      <th>median_house_value</th>\n",
       "      <th>ocean_proximity</th>\n",
       "    </tr>\n",
       "  </thead>\n",
       "  <tbody>\n",
       "    <tr>\n",
       "      <th>0</th>\n",
       "      <td>-122.23</td>\n",
       "      <td>37.88</td>\n",
       "      <td>41.0</td>\n",
       "      <td>880.0</td>\n",
       "      <td>129.0</td>\n",
       "      <td>322.0</td>\n",
       "      <td>126.0</td>\n",
       "      <td>8.3252</td>\n",
       "      <td>452600.0</td>\n",
       "      <td>NEAR BAY</td>\n",
       "    </tr>\n",
       "    <tr>\n",
       "      <th>1</th>\n",
       "      <td>-122.22</td>\n",
       "      <td>37.86</td>\n",
       "      <td>21.0</td>\n",
       "      <td>7099.0</td>\n",
       "      <td>1106.0</td>\n",
       "      <td>2401.0</td>\n",
       "      <td>1138.0</td>\n",
       "      <td>8.3014</td>\n",
       "      <td>358500.0</td>\n",
       "      <td>NEAR BAY</td>\n",
       "    </tr>\n",
       "    <tr>\n",
       "      <th>2</th>\n",
       "      <td>-122.24</td>\n",
       "      <td>37.85</td>\n",
       "      <td>52.0</td>\n",
       "      <td>1467.0</td>\n",
       "      <td>190.0</td>\n",
       "      <td>496.0</td>\n",
       "      <td>177.0</td>\n",
       "      <td>7.2574</td>\n",
       "      <td>352100.0</td>\n",
       "      <td>NEAR BAY</td>\n",
       "    </tr>\n",
       "    <tr>\n",
       "      <th>3</th>\n",
       "      <td>-122.25</td>\n",
       "      <td>37.85</td>\n",
       "      <td>52.0</td>\n",
       "      <td>1274.0</td>\n",
       "      <td>235.0</td>\n",
       "      <td>558.0</td>\n",
       "      <td>219.0</td>\n",
       "      <td>5.6431</td>\n",
       "      <td>341300.0</td>\n",
       "      <td>NEAR BAY</td>\n",
       "    </tr>\n",
       "    <tr>\n",
       "      <th>4</th>\n",
       "      <td>-122.25</td>\n",
       "      <td>37.85</td>\n",
       "      <td>52.0</td>\n",
       "      <td>1627.0</td>\n",
       "      <td>280.0</td>\n",
       "      <td>565.0</td>\n",
       "      <td>259.0</td>\n",
       "      <td>3.8462</td>\n",
       "      <td>342200.0</td>\n",
       "      <td>NEAR BAY</td>\n",
       "    </tr>\n",
       "  </tbody>\n",
       "</table>\n",
       "</div>"
      ],
      "text/plain": [
       "   longitude  latitude  housing_median_age  total_rooms  total_bedrooms  \\\n",
       "0    -122.23     37.88                41.0        880.0           129.0   \n",
       "1    -122.22     37.86                21.0       7099.0          1106.0   \n",
       "2    -122.24     37.85                52.0       1467.0           190.0   \n",
       "3    -122.25     37.85                52.0       1274.0           235.0   \n",
       "4    -122.25     37.85                52.0       1627.0           280.0   \n",
       "\n",
       "   population  households  median_income  median_house_value ocean_proximity  \n",
       "0       322.0       126.0         8.3252            452600.0        NEAR BAY  \n",
       "1      2401.0      1138.0         8.3014            358500.0        NEAR BAY  \n",
       "2       496.0       177.0         7.2574            352100.0        NEAR BAY  \n",
       "3       558.0       219.0         5.6431            341300.0        NEAR BAY  \n",
       "4       565.0       259.0         3.8462            342200.0        NEAR BAY  "
      ]
     },
     "execution_count": 5,
     "metadata": {},
     "output_type": "execute_result"
    }
   ],
   "source": [
    "# Task 5 -- Load housing data and have a quick look at it\n",
    "import pandas as pd\n",
    "\n",
    "df = pd.read_csv(\"housing.csv\")\n",
    "\n",
    "df.head()"
   ]
  },
  {
   "cell_type": "code",
   "execution_count": 6,
   "metadata": {},
   "outputs": [
    {
     "name": "stdout",
     "output_type": "stream",
     "text": [
      "Number of districts 20640\n",
      "Mean house values 206855.81690891474\n"
     ]
    }
   ],
   "source": [
    "# Task 5a & 5b\n",
    "print(\"Number of districts\", df.shape[0])\n",
    "print(\"Mean house values\", my_mean(df.median_house_value.values))"
   ]
  },
  {
   "cell_type": "code",
   "execution_count": 7,
   "metadata": {},
   "outputs": [
    {
     "name": "stdout",
     "output_type": "stream",
     "text": [
      "households min 1.0 max 6082.0 mean 499.5396802325581\n"
     ]
    },
    {
     "data": {
      "image/png": "[encoded data removed]",
      "text/plain": [
       "<Figure size 432x288 with 1 Axes>"
      ]
     },
     "metadata": {
      "needs_background": "light"
     },
     "output_type": "display_data"
    },
    {
     "name": "stdout",
     "output_type": "stream",
     "text": [
      "median_income min 0.4999 max 15.0001 mean 3.8706710029070246\n"
     ]
    },
    {
     "data": {
      "image/png": "[encoded data removed]",
      "text/plain": [
       "<Figure size 432x288 with 1 Axes>"
      ]
     },
     "metadata": {
      "needs_background": "light"
     },
     "output_type": "display_data"
    },
    {
     "name": "stdout",
     "output_type": "stream",
     "text": [
      "housing_median_age min 1.0 max 52.0 mean 28.639486434108527\n"
     ]
    },
    {
     "data": {
      "image/png": "[encoded data removed]",
      "text/plain": [
       "<Figure size 432x288 with 1 Axes>"
      ]
     },
     "metadata": {
      "needs_background": "light"
     },
     "output_type": "display_data"
    },
    {
     "name": "stdout",
     "output_type": "stream",
     "text": [
      "median_house_value min 14999.0 max 500001.0 mean 206855.81690891474\n"
     ]
    },
    {
     "data": {
      "image/png": "[encoded data removed]",
      "text/plain": [
       "<Figure size 432x288 with 1 Axes>"
      ]
     },
     "metadata": {
      "needs_background": "light"
     },
     "output_type": "display_data"
    }
   ],
   "source": [
    "# Task 5c\n",
    "def explain(arr, title):\n",
    "    print(title, \"min\", my_min(arr), \"max\", my_max(arr), \"mean\", my_mean(arr))\n",
    "    plt.hist(arr, bins=20)\n",
    "    plt.title(title)\n",
    "    plt.show()\n",
    "\n",
    "explain(df.households, \"households\")\n",
    "explain(df.median_income, \"median_income\")\n",
    "explain(df.housing_median_age, \"housing_median_age\")\n",
    "explain(df.median_house_value, \"median_house_value\")\n"
   ]
  },
  {
   "cell_type": "markdown",
   "metadata": {},
   "source": [
    "Task 5d\n",
    "\n",
    "- Median age has likely been preprocessed as the range is [1,52], potentially shifted as the minimum value is 1 year and max 52. It seems reasonable to assume that a shift ca 20 years has been applied.\n",
    "- Median house value seem to max out at 500001 as that is the max value and a disproportionally large amount of districs have median house value at this value. "
   ]
  },
  {
   "cell_type": "markdown",
   "metadata": {},
   "source": [
    "Task 5e\n",
    "\n",
    "- The magnitude of median house values appear to be reasonable with a range of ca USD [15k,50k], which seems likely in the US housing market. However, the magnitude of median_income looks to be preprocessed (or in different unit) as the range is ca [0.5, 15]."
   ]
  }
 ],
 "metadata": {
  "kernelspec": {
   "display_name": "Python 3.9.7 ('base')",
   "language": "python",
   "name": "python3"
  },
  "language_info": {
   "codemirror_mode": {
    "name": "ipython",
    "version": 3
   },
   "file_extension": ".py",
   "mimetype": "text/x-python",
   "name": "python",
   "nbconvert_exporter": "python",
   "pygments_lexer": "ipython3",
   "version": "3.9.7"
  },
  "orig_nbformat": 4,
  "vscode": {
   "interpreter": {
    "hash": "2b42d7587ec20cbec5074418aafeeede2820f3367fcd849a88c3acb0e4c010fd"
   }
  }
 },
 "nbformat": 4,
 "nbformat_minor": 2
}
