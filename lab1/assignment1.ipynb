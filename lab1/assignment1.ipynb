{
 "metadata": {
  "language_info": {
   "codemirror_mode": {
    "name": "python",
    "version": 3
   },
   "file_extension": ".py",
   "mimetype": "text/x-python",
   "name": "python",
   "nbconvert_exporter": "python",
   "pygments_lexer": "ipython3",
   "version": "3.8"
  },
  "kernelspec": {
   "name": "python",
   "display_name": "Python (Pyodide)",
   "language": "python"
  }
 },
 "nbformat_minor": 4,
 "nbformat": 4,
 "cells": [
  {
   "cell_type": "code",
   "source": [
    "# LAB 1 - Working with data and statistics"
   ],
   "metadata": {
    "trusted": true,
    "pycharm": {
     "name": "#%%\n",
     "is_executing": true
    }
   },
   "execution_count": null,
   "outputs": []
  },
  {
   "cell_type": "markdown",
   "source": [
    "## Task 1: Get some insights"
   ],
   "metadata": {
    "pycharm": {
     "name": "#%% md\n"
    }
   }
  },
  {
   "cell_type": "code",
   "source": [
    "import math\n",
    "import statistics\n",
    "\n",
    "from matplotlib import pyplot as plt\n",
    "import numpy as np\n",
    "import pandas as pd\n",
    "from scipy.stats import median_abs_deviation\n",
    "\n",
    "%matplotlib inline"
   ],
   "metadata": {
    "trusted": true,
    "pycharm": {
     "name": "#%%\n"
    }
   },
   "execution_count": 112,
   "outputs": []
  },
  {
   "cell_type": "markdown",
   "source": [
    "The list of grades is as follows"
   ],
   "metadata": {
    "pycharm": {
     "name": "#%% md\n"
    }
   }
  },
  {
   "cell_type": "code",
   "source": [
    "grades = [8, 6, 1, 7, 8, 9, 8, 7, 10, 7, 6, 9, 7]"
   ],
   "metadata": {
    "trusted": true,
    "pycharm": {
     "name": "#%%\n"
    }
   },
   "execution_count": 113,
   "outputs": []
  },
  {
   "cell_type": "markdown",
   "source": [
    "Define functions for calculating the minimum, maximum, sum, mean, variance, standard deviation, median and median absolute deviance"
   ],
   "metadata": {
    "pycharm": {
     "name": "#%% md\n"
    }
   }
  },
  {
   "cell_type": "markdown",
   "source": [
    "First let's define the functions for calculating the minimum, maximum and range of an array:"
   ],
   "metadata": {
    "pycharm": {
     "name": "#%% md\n"
    }
   }
  },
  {
   "cell_type": "code",
   "source": [
    "def my_min(array):\n",
    "    low = None\n",
    "    for item in array:\n",
    "        if low is None or item < low:\n",
    "            low = item\n",
    "    return low\n",
    "\n",
    "def my_max(array):\n",
    "    high = None\n",
    "    for item in array:\n",
    "        if high is None or item > high:\n",
    "            high = item\n",
    "    return high\n",
    "\n",
    "def my_range(array):\n",
    "    return my_max(array) - my_min(array)\n"
   ],
   "metadata": {
    "trusted": true,
    "pycharm": {
     "name": "#%%\n"
    }
   },
   "execution_count": 114,
   "outputs": []
  },
  {
   "cell_type": "markdown",
   "source": [
    "Now let's define the functions calculating (the sum and) the mean of the array: "
   ],
   "metadata": {
    "pycharm": {
     "name": "#%% md\n"
    }
   }
  },
  {
   "cell_type": "code",
   "source": [
    "def my_sum(array):\n",
    "    sum_ = 0\n",
    "    for item in array:\n",
    "        sum_ += item\n",
    "    return sum_\n",
    "\n",
    "def my_mean(array):\n",
    "    return my_sum(array) / len(array)"
   ],
   "metadata": {
    "trusted": true,
    "pycharm": {
     "name": "#%%\n"
    }
   },
   "execution_count": 115,
   "outputs": []
  },
  {
   "cell_type": "markdown",
   "source": [
    "Now let's use these functions on the grades array and validate the results:"
   ],
   "metadata": {
    "pycharm": {
     "name": "#%% md\n"
    }
   }
  },
  {
   "cell_type": "code",
   "source": [
    "min_value = my_min(grades)\n",
    "assert(min_value == min(grades))\n",
    "print(f'The minimum grade is: {min_value}')\n",
    "\n",
    "max_value = my_max(grades)\n",
    "assert(max_value == max(grades))\n",
    "print(f'The maximum grade is: {max_value}')\n",
    "\n",
    "mean_value = my_mean(grades)\n",
    "assert(mean_value == statistics.mean(grades))\n",
    "print(f'The mean grade is: {mean_value:.2f}')\n",
    "\n",
    "spread_grades = my_range(grades)\n",
    "assert(spread_grades == (max(grades) - min(grades)))\n",
    "print(f'The spread (range) of the grades is: {spread_grades}')"
   ],
   "metadata": {
    "trusted": true,
    "pycharm": {
     "name": "#%%\n"
    }
   },
   "execution_count": 116,
   "outputs": [
    {
     "name": "stdout",
     "text": "The minimum grade is: 1\nThe maximum grade is: 10\nThe mean grade is: 7.15\nThe spread (range) of the grades is: 9\n",
     "output_type": "stream"
    }
   ]
  },
  {
   "cell_type": "markdown",
   "source": [
    "The minimum and the maximum are the lowest and highest elements occurring in the sample, respectively. The range is the difference between these two values, while the (arithmetic) mean is the sum of the items in the sample divided by the size of the sample, i.e. the average of the items in the sample. The latter serves as an estimate of the mean of the whole population."
   ],
   "metadata": {
    "pycharm": {
     "name": "#%% md\n"
    }
   }
  },
  {
   "cell_type": "markdown",
   "source": [
    "## Task 2: Some more insights\n",
    "Let's continue with calculating the variance and the standard deviation"
   ],
   "metadata": {
    "pycharm": {
     "name": "#%% md\n"
    }
   }
  },
  {
   "cell_type": "code",
   "source": [
    "def my_variance(array):\n",
    "    mean = my_mean(array)\n",
    "    numerator = my_sum((item - mean)**2 for item in array)\n",
    "    return numerator / (len(array) - 1)\n",
    "\n",
    "def my_standard_deviation(array):\n",
    "    return math.sqrt(my_variance(array))"
   ],
   "metadata": {
    "trusted": true,
    "pycharm": {
     "name": "#%%\n"
    }
   },
   "execution_count": 117,
   "outputs": []
  },
  {
   "cell_type": "markdown",
   "source": [
    "Now apply these to the array above"
   ],
   "metadata": {
    "pycharm": {
     "name": "#%% md\n"
    }
   }
  },
  {
   "cell_type": "code",
   "source": [
    "variance = my_variance(grades)\n",
    "assert (variance == statistics.variance(grades))\n",
    "print(f'The sample variance of the grades is: {variance:.2f}')\n",
    "\n",
    "standard_deviation = my_standard_deviation(grades)\n",
    "assert(standard_deviation == statistics.stdev(grades))\n",
    "print(\n",
    "    f'The sample standard deviation of the grades is: '\n",
    "    f'{standard_deviation:.2f}'\n",
    ")"
   ],
   "metadata": {
    "trusted": true,
    "pycharm": {
     "name": "#%%\n"
    }
   },
   "execution_count": 118,
   "outputs": [
    {
     "name": "stdout",
     "text": "The sample variance of the grades is: 4.81\nThe sample standard deviation of the grades is: 2.19\n",
     "output_type": "stream"
    }
   ]
  },
  {
   "cell_type": "markdown",
   "source": [
    "The sample variance and standard deviation are an estimate of the population variance and standard deviation, which can be calculated in slightly different ways. The values above are the _unbiased_ sample variance and stdev values, where the denominator equals to the size of the sample *minus 1*. If we want to get the _biased_ values returned by NumPy, we have to define the functions as follows:"
   ],
   "metadata": {
    "pycharm": {
     "name": "#%% md\n"
    }
   }
  },
  {
   "cell_type": "code",
   "source": [
    "def my_biased_variance(array):\n",
    "    mean = my_mean(array)\n",
    "    numerator = my_sum((item - mean)**2 for item in array)\n",
    "    return numerator / (len(array))\n",
    "\n",
    "def my_biased_standard_deviation(array):\n",
    "    return math.sqrt(my_biased_variance(array))\n",
    "\n",
    "\n",
    "biased_variance = my_biased_variance(grades)\n",
    "assert (biased_variance == np.var(grades))\n",
    "print(f'The biased sample variance of the grades is: {biased_variance:.2f}')\n",
    "\n",
    "biased_standard_deviation = my_biased_standard_deviation(grades)\n",
    "assert(biased_standard_deviation == np.std(grades))\n",
    "print(\n",
    "    f'The biased sample standard deviation of the grades is: '\n",
    "    f'{biased_standard_deviation:.2f}'\n",
    ")"
   ],
   "metadata": {
    "trusted": true,
    "pycharm": {
     "name": "#%%\n"
    }
   },
   "execution_count": 119,
   "outputs": [
    {
     "name": "stdout",
     "text": "The biased sample variance of the grades is: 4.44\nThe biased sample standard deviation of the grades is: 2.11\n",
     "output_type": "stream"
    }
   ]
  },
  {
   "cell_type": "markdown",
   "source": [
    "Both values measure the spread of the data. The variance itself is the mean of the squared deviations of each item from the mean, while the standard deviation is the square root of the variance."
   ],
   "metadata": {
    "pycharm": {
     "name": "#%% md\n"
    }
   }
  },
  {
   "cell_type": "markdown",
   "source": [
    "## Task 3: Median and median absolute deviation\n",
    "First, let's define the functions calculating these two properties:"
   ],
   "metadata": {
    "pycharm": {
     "name": "#%% md\n"
    }
   }
  },
  {
   "cell_type": "code",
   "source": [
    "def my_median(array):\n",
    "    sorted_array = sorted(array)\n",
    "    length = len(array)\n",
    "    if length % 2:  # odd\n",
    "        indices = [(length - 1) // 2]\n",
    "    else:  # even\n",
    "        indices = [length//2 - 1, length // 2]\n",
    "\n",
    "    return my_mean([sorted_array[i] for i in indices])\n",
    "\n",
    "def my_median_absolute_deviation(array):\n",
    "    median = my_median(array)\n",
    "    return my_median([abs(item - median) for item in array])"
   ],
   "metadata": {
    "trusted": true,
    "pycharm": {
     "name": "#%%\n"
    }
   },
   "execution_count": 120,
   "outputs": []
  },
  {
   "cell_type": "markdown",
   "source": [
    "Now apply them to the grades array above"
   ],
   "metadata": {
    "pycharm": {
     "name": "#%% md\n"
    }
   }
  },
  {
   "cell_type": "code",
   "source": [
    "median_grade = my_median(grades)\n",
    "assert(median_grade == statistics.median(grades))\n",
    "print(f'The median of the grades is {median_grade}')\n",
    "\n",
    "mad_grade = my_median_absolute_deviation(grades)\n",
    "grades_df = pd.DataFrame(grades, columns=['Grades'])\n",
    "assert(\n",
    "    mad_grade == grades_df[['Grades']].apply(median_abs_deviation).Grades\n",
    ")\n",
    "print(f'The median absolute deviation of the grades is {mad_grade}')"
   ],
   "metadata": {
    "trusted": true,
    "pycharm": {
     "name": "#%%\n"
    }
   },
   "execution_count": 121,
   "outputs": [
    {
     "name": "stdout",
     "text": "The median of the grades is 7.0\nThe median absolute deviation of the grades is 1.0\n",
     "output_type": "stream"
    }
   ]
  },
  {
   "cell_type": "markdown",
   "source": [
    "## Task 4: Let's visualize the data!"
   ],
   "metadata": {
    "pycharm": {
     "name": "#%% md\n"
    }
   }
  },
  {
   "cell_type": "code",
   "source": [
    "plt.hist(grades)\n",
    "plt.title('Grades histogram')\n",
    "plt.xticks(np.arange(min_value, max_value + 1, 1))\n",
    "\n",
    "mode_grade = statistics.mode(grades)\n",
    "print(f'The most frequent grade is: {mode_grade}')"
   ],
   "metadata": {
    "trusted": true,
    "pycharm": {
     "name": "#%%\n"
    }
   },
   "execution_count": 122,
   "outputs": [
    {
     "name": "stdout",
     "text": "The most frequent grade is: 7\n",
     "output_type": "stream"
    },
    {
     "output_type": "display_data",
     "data": {
      "text/plain": "<Figure size 640x480 with 1 Axes>",
      "image/png": "[encoded data removed]"
     },
     "metadata": {}
    }
   ]
  },
  {
   "cell_type": "markdown",
   "source": [
    "The value 1 is far from the rest and thus appears to be an outlier."
   ],
   "metadata": {
    "pycharm": {
     "name": "#%% md\n"
    }
   }
  },
  {
   "cell_type": "markdown",
   "source": [
    "## Task 5: Apply to a real dataset\n",
    "First, let's fetch the data from the csv file"
   ],
   "metadata": {
    "pycharm": {
     "name": "#%% md\n"
    }
   }
  },
  {
   "cell_type": "code",
   "source": [],
   "metadata": {
    "trusted": true,
    "pycharm": {
     "name": "#%%\n"
    }
   },
   "execution_count": 123,
   "outputs": []
  },
  {
   "cell_type": "code",
   "source": [],
   "metadata": {
    "pycharm": {
     "name": "#%%\n"
    }
   },
   "execution_count": null,
   "outputs": []
  }
 ]
}